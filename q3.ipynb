{
 "cells": [
  {
   "cell_type": "code",
   "execution_count": 21,
   "metadata": {},
   "outputs": [],
   "source": [
    "#Question 3 - Vibrancy Enhancement\n",
    "import cv2 as cv\n",
    "import numpy as np\n",
    "import matplotlib.pyplot as plt\n",
    "import math as math\n",
    "\n",
    "#Part (a)\n",
    "img = cv.imread('images/spider.png')\n",
    "hsv = cv.cvtColor(img, cv.COLOR_BGR2HSV_FULL)\n",
    "\n",
    "h, s, v = cv.split(hsv)\n",
    "\n",
    "#Part (b)\n",
    "\n",
    "#Function to apply the intensity transform to every pixel in the saturation plane\n",
    "def in_img(s, a, sigma):\n",
    "    height, width = s.shape\n",
    "    result = np.zeros_like(s)\n",
    "\n",
    "    for y in range(height):\n",
    "        for x in range(width):\n",
    "            intensity = s[y, x]\n",
    "            result[y, x] = min(intensity + a * 128 * math.exp(-((intensity - 128) ** 2) / (2 * sigma ** 2)), 255)\n",
    "\n",
    "    return result\n",
    "\n",
    "#defines a and sigma\n",
    "a = 0.56\n",
    "sigma = 70\n",
    "\n",
    "#applies the transform to the saturation plane\n",
    "s_transform = in_img(s, a, sigma)\n",
    "\n",
    "#merges the planes back together\n",
    "hsv_mod = cv.merge((h, s_transform, v))\n",
    "\n",
    "#converts back to BGR from HSV\n",
    "im2 = cv.cvtColor(hsv_mod, cv.COLOR_HSV2BGR_FULL)\n",
    "\n",
    "#displays the image\n",
    "cv.imshow('Original',img )\n",
    "cv.waitKey(0)\n",
    "cv.imshow(\"Vibrance Enhanced, a = :{:.2f}\".format(a), im2)\n",
    "cv.waitKey(0)\n",
    "cv.destroyAllWindows()"
   ]
  }
 ],
 "metadata": {
  "kernelspec": {
   "display_name": "Python 3",
   "language": "python",
   "name": "python3"
  },
  "language_info": {
   "codemirror_mode": {
    "name": "ipython",
    "version": 3
   },
   "file_extension": ".py",
   "mimetype": "text/x-python",
   "name": "python",
   "nbconvert_exporter": "python",
   "pygments_lexer": "ipython3",
   "version": "3.12.1"
  }
 },
 "nbformat": 4,
 "nbformat_minor": 2
}
