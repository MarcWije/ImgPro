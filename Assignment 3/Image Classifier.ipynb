{
 "cells": [
  {
   "cell_type": "code",
   "execution_count": 1,
   "metadata": {},
   "outputs": [
    {
     "name": "stdout",
     "output_type": "stream",
     "text": [
      "Downloading data from https://www.cs.toronto.edu/~kriz/cifar-10-python.tar.gz\n",
      "\u001b[1m170498071/170498071\u001b[0m \u001b[32m━━━━━━━━━━━━━━━━━━━━\u001b[0m\u001b[37m\u001b[0m \u001b[1m36s\u001b[0m 0us/step\n"
     ]
    }
   ],
   "source": [
    "from tensorflow.keras.datasets import cifar10\n",
    "\n",
    "(x_full, y_full), (x_test, y_test) = cifar10.load_data()\n",
    "\n",
    "x_full = x_full.astype('float32') / 255.0  \n",
    "x_test = x_test.astype('float32') / 255.0\n",
    "\n",
    "# Calculate split sizes\n",
    "num_train = int(0.6 * len(x_full)) \n",
    "num_val = int(0.2 * len(x_full)) \n",
    "\n",
    "# Split into training and validation sets\n",
    "training_x = x_full[:num_train]\n",
    "training_y = y_full[:num_train]\n",
    "val_x = x_full[num_train: (num_train + num_val)]\n",
    "val_y = y_full[num_train: (num_train + num_val)]\n",
    "test_x = x_full[(num_train + num_val):]\n",
    "test_y = y_full[(num_train + num_val):]\n",
    "\n",
    "\n"
   ]
  }
 ],
 "metadata": {
  "kernelspec": {
   "display_name": "Python 3",
   "language": "python",
   "name": "python3"
  },
  "language_info": {
   "codemirror_mode": {
    "name": "ipython",
    "version": 3
   },
   "file_extension": ".py",
   "mimetype": "text/x-python",
   "name": "python",
   "nbconvert_exporter": "python",
   "pygments_lexer": "ipython3",
   "version": "3.12.1"
  }
 },
 "nbformat": 4,
 "nbformat_minor": 2
}
